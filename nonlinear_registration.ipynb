{
 "metadata": {
  "name": ""
 },
 "nbformat": 3,
 "nbformat_minor": 0,
 "worksheets": [
  {
   "cells": [
    {
     "cell_type": "markdown",
     "metadata": {},
     "source": [
      "import libraries"
     ]
    },
    {
     "cell_type": "code",
     "collapsed": false,
     "input": [
      "import nipype\n",
      "import os\n",
      "from nipype.pipeline.engine import Node, Workflow, MapNode"
     ],
     "language": "python",
     "metadata": {},
     "outputs": [],
     "prompt_number": 103
    },
    {
     "cell_type": "markdown",
     "metadata": {},
     "source": [
      "initiate workflow"
     ]
    },
    {
     "cell_type": "code",
     "collapsed": false,
     "input": [
      "nonreg = Workflow(name='nonlinear_registration')\n",
      "nonreg.base_dir=os.path.abspath('/scr/ilz1/nonlinear_registration/working_dir')"
     ],
     "language": "python",
     "metadata": {},
     "outputs": [],
     "prompt_number": 104
    },
    {
     "cell_type": "markdown",
     "metadata": {},
     "source": [
      "set data directories and create subject list"
     ]
    },
    {
     "cell_type": "code",
     "collapsed": false,
     "input": [
      "data_dir = '/scr/kalifornien1/data/nki_enhanced/'\n",
      "output_dir = '/scr/ilz1/nonlinear_registration/results_all_subjects/'\n",
      "folder = !ls '/scr/kalifornien1/data/nki_enhanced/niftis'\n",
      "subjects = folder[0:221]"
     ],
     "language": "python",
     "metadata": {},
     "outputs": [],
     "prompt_number": 105
    },
    {
     "cell_type": "markdown",
     "metadata": {},
     "source": [
      "create inforsource to iterate over subjects"
     ]
    },
    {
     "cell_type": "code",
     "collapsed": false,
     "input": [
      "from nipype.interfaces.utility import IdentityInterface\n",
      "infosource = Node(interface=IdentityInterface(fields=['subject_id']), \n",
      "                  name=\"infosource\")\n",
      "infosource.iterables=('subject_id', subjects)"
     ],
     "language": "python",
     "metadata": {},
     "outputs": [],
     "prompt_number": 106
    },
    {
     "cell_type": "markdown",
     "metadata": {},
     "source": [
      "create datasource to grab data"
     ]
    },
    {
     "cell_type": "code",
     "collapsed": false,
     "input": [
      "from nipype.interfaces.io import DataGrabber, DataFinder\n",
      "datasource = Node(DataGrabber(infields=['subject_id'], \n",
      "                              outfields=['func','anat','ribbon'],\n",
      "                              base_directory = os.path.abspath(data_dir),\n",
      "                              template = '%s/%s/%s',\n",
      "                              template_args=dict(func=[['niftis','subject_id','RfMRI_std_2500.nii.gz']], \n",
      "                                                 anat=[['freesurfer','subject_id','mri/brain.mgz']],\n",
      "                                                 ribbon=[['freesurfer','subject_id','mri/ribbon.mgz']]),\n",
      "                              sort_filelist = True),\n",
      "                  name='datasource')\n",
      "\n",
      "nonreg.connect(infosource, 'subject_id', datasource, 'subject_id')"
     ],
     "language": "python",
     "metadata": {},
     "outputs": [],
     "prompt_number": 107
    },
    {
     "cell_type": "markdown",
     "metadata": {},
     "source": [
      "create sink to store data"
     ]
    },
    {
     "cell_type": "code",
     "collapsed": false,
     "input": [
      "from nipype.interfaces.io import DataSink\n",
      "sink = Node(DataSink(), name='sink')\n",
      "sink.inputs.base_directory = os.path.abspath(output_dir)\n",
      "sink.inputs.substitutions = ('_subject_id_', '')\n",
      "nonreg.connect(infosource, 'subject_id', sink, 'container')"
     ],
     "language": "python",
     "metadata": {},
     "outputs": [],
     "prompt_number": 108
    },
    {
     "cell_type": "markdown",
     "metadata": {},
     "source": [
      "realignment to mean volume with mcflirt"
     ]
    },
    {
     "cell_type": "code",
     "collapsed": false,
     "input": [
      "from nipype.interfaces.fsl import MCFLIRT\n",
      "mcflirt = Node(interface=MCFLIRT(output_type = 'NIFTI_GZ',\n",
      "                                 mean_vol = True,\n",
      "                                 save_plots = True, \n",
      "                                 save_mats = True,\n",
      "                                 stats_imgs = True), \n",
      "               name='realignment')\n",
      "\n",
      "nonreg.connect(datasource, 'func', mcflirt, 'in_file')\n",
      "nonreg.connect(mcflirt, 'out_file', sink, 'realignment')\n",
      "nonreg.connect(mcflirt, 'par_file',sink, 'realignment.@parameters')\n",
      "nonreg.connect(mcflirt, 'mat_file',sink, 'realignment.@matrices')"
     ],
     "language": "python",
     "metadata": {},
     "outputs": [],
     "prompt_number": 109
    },
    {
     "cell_type": "code",
     "collapsed": false,
     "input": [
      "from nipype.interfaces.fsl.maths import MeanImage\n",
      "calc_mean = Node(interface=MeanImage(dimension='T',\n",
      "                                     output_type = 'NIFTI_GZ'), \n",
      "                 name='calculate_Tmean')\n",
      "\n",
      "nonreg.connect(mcflirt, 'out_file', calc_mean, 'in_file')\n",
      "nonreg.connect(calc_mean, 'out_file',sink, 'realignment.@realigned_mean')"
     ],
     "language": "python",
     "metadata": {},
     "outputs": [],
     "prompt_number": 110
    },
    {
     "cell_type": "markdown",
     "metadata": {},
     "source": [
      "convert brain.mgz to nifti"
     ]
    },
    {
     "cell_type": "code",
     "collapsed": false,
     "input": [
      "from nipype.interfaces.freesurfer import MRIConvert\n",
      "mriconvert = Node(interface=MRIConvert(out_type='niigz'), \n",
      "                  name='mgz2nifti')\n",
      "\n",
      "nonreg.connect(datasource, 'anat', mriconvert, 'in_file')\n",
      "nonreg.connect(mriconvert, 'out_file', sink, 'anat.@brain')"
     ],
     "language": "python",
     "metadata": {},
     "outputs": [],
     "prompt_number": 111
    },
    {
     "cell_type": "markdown",
     "metadata": {},
     "source": [
      "calculate rigid transform mean epi to freesurfer t1 with bbregister and convert transformation into ants readable format and list"
     ]
    },
    {
     "cell_type": "code",
     "collapsed": false,
     "input": [
      "from nipype.interfaces.freesurfer import BBRegister\n",
      "bbregister = Node(interface=BBRegister(init='fsl', \n",
      "                                       contrast_type='t2', \n",
      "                                       out_fsl_file = True, \n",
      "                                       registered_file=True,\n",
      "                                       subjects_dir=os.path.abspath('/scr/kalifornien1/data/nki_enhanced/freesurfer')), \n",
      "                  name='linear_transformation')\n",
      "\n",
      "nonreg.connect(infosource, 'subject_id', bbregister, 'subject_id')\n",
      "nonreg.connect(calc_mean, 'out_file', bbregister, 'source_file')\n",
      "#nonreg.connect(bbregister, 'registered_file', sink, 'lin_transform.@lin_warp')\n",
      "nonreg.connect(bbregister, 'out_fsl_file', sink, 'lin_transform.@fsl_lin_transform')\n",
      "\n",
      "from nipype.interfaces.c3 import C3dAffineTool\n",
      "c3daffine = Node(interface=C3dAffineTool(fsl2ras=True,\n",
      "                                        itk_transform=True), \n",
      "                name='convert_linear_transformation')\n",
      "\n",
      "nonreg.connect(calc_mean, 'out_file', c3daffine, 'source_file')\n",
      "nonreg.connect(mriconvert, 'out_file', c3daffine, 'reference_file')\n",
      "nonreg.connect(bbregister, 'out_fsl_file', c3daffine, 'transform_file')\n",
      "nonreg.connect(c3daffine, 'itk_transform', sink, 'lin_transform.@ants_lin_transform')\n",
      "\n",
      "from nipype.interfaces import Function\n",
      "def make_list(lin_transform):\n",
      "    lin_list = [lin_transform]\n",
      "    return lin_list\n",
      "\n",
      "list_transform = Node(interface=Function(input_names=['lin_transform'],\n",
      "                                 output_names=['lin_list'],\n",
      "                                 function=make_list),\n",
      "              name='list_transformation')\n",
      "\n",
      "nonreg.connect(c3daffine, 'itk_transform', list_transform, 'lin_transform')"
     ],
     "language": "python",
     "metadata": {},
     "outputs": [],
     "prompt_number": 112
    },
    {
     "cell_type": "markdown",
     "metadata": {},
     "source": [
      "binarize and dilate ribbon"
     ]
    },
    {
     "cell_type": "code",
     "collapsed": false,
     "input": [
      "from nipype.interfaces.freesurfer.model import Binarize\n",
      "bin_dil = Node(interface=Binarize(dilate=3,\n",
      "                                   min=0.1,\n",
      "                                   out_type='nii.gz'), \n",
      "                name='binarize_dilate_ribbon')\n",
      "\n",
      "nonreg.connect(datasource, 'ribbon', bin_dil, 'in_file')"
     ],
     "language": "python",
     "metadata": {},
     "outputs": [],
     "prompt_number": 113
    },
    {
     "cell_type": "markdown",
     "metadata": {},
     "source": [
      "\n",
      "create bounding box mask and rigidly transform into freesurfer anatomical space"
     ]
    },
    {
     "cell_type": "code",
     "collapsed": false,
     "input": [
      "from nipype.interfaces.freesurfer.model import Binarize\n",
      "boundingbox = Node(interface=Binarize(min=0.0,\n",
      "                                      out_type='nii.gz'), \n",
      "                name='bounding_box_mask')\n",
      "\n",
      "nonreg.connect(calc_mean, 'out_file', boundingbox, 'in_file')\n",
      "\n",
      "\n",
      "from nipype.interfaces.ants.resampling import ApplyTransforms\n",
      "transformbb = Node(interface=ApplyTransforms(dimension=3,\n",
      "                                             interpolation='NearestNeighbor'),\n",
      "                   name='linearly_transform_bounding_box_mask')\n",
      "\n",
      "nonreg.connect(list_transform, 'lin_list', transformbb, 'transforms')\n",
      "nonreg.connect(boundingbox, 'binary_file', transformbb, 'input_image')\n",
      "nonreg.connect(bin_dil, 'binary_file', transformbb, 'reference_image')"
     ],
     "language": "python",
     "metadata": {},
     "outputs": [],
     "prompt_number": 114
    },
    {
     "cell_type": "markdown",
     "metadata": {},
     "source": [
      "intersect both masks"
     ]
    },
    {
     "cell_type": "code",
     "collapsed": false,
     "input": [
      "from nipype.interfaces.fsl.maths import BinaryMaths\n",
      "intersect = Node(interface=BinaryMaths(operation = 'mul'), \n",
      "                 name = 'intersect_masks')\n",
      "\n",
      "nonreg.connect(bin_dil, 'binary_file', intersect, 'in_file')\n",
      "nonreg.connect(transformbb, 'output_image', intersect, 'operand_file')\n",
      "nonreg.connect(intersect, 'out_file', sink, 'mask.@combined_mask_fsvspace')"
     ],
     "language": "python",
     "metadata": {},
     "outputs": [],
     "prompt_number": 115
    },
    {
     "cell_type": "markdown",
     "metadata": {},
     "source": [
      "mask anatomical "
     ]
    },
    {
     "cell_type": "code",
     "collapsed": false,
     "input": [
      "from nipype.interfaces.freesurfer.utils import ApplyMask\n",
      "maskanat = Node(interface=ApplyMask(), \n",
      "                name='apply_combined_mask_2anat')\n",
      "\n",
      "nonreg.connect(intersect, 'out_file', maskanat, 'mask_file')\n",
      "nonreg.connect(mriconvert, 'out_file', maskanat, 'in_file')\n",
      "nonreg.connect(maskanat, 'out_file', sink, 'anat.@masked_brain')"
     ],
     "language": "python",
     "metadata": {},
     "outputs": [],
     "prompt_number": 116
    },
    {
     "cell_type": "markdown",
     "metadata": {},
     "source": [
      "invert masked anatomical"
     ]
    },
    {
     "cell_type": "code",
     "collapsed": false,
     "input": [
      "from nipype.interfaces.fsl.utils import ImageStats\n",
      "anat_min_max = Node(interface=ImageStats(op_string = '-R'), name='derive_anat_intensities')\n",
      "epi_min_max = Node(interface=ImageStats(op_string = '-R'), name='derive_epi_intensities')\n",
      "\n",
      "nonreg.connect(maskanat, 'out_file', anat_min_max, 'in_file') \n",
      "nonreg.connect(calc_mean, 'out_file', epi_min_max, 'in_file') \n",
      "\n",
      "\n",
      "# function to calculate add and multiply values from image stats\n",
      "from nipype.interfaces.utility import Function\n",
      "def calculate_inversion(anat_min_max, epi_min_max):\n",
      "    \n",
      "    mul_fac = -(epi_min_max[1]-epi_min_max[0])/(anat_min_max[1]-anat_min_max[0])\n",
      "    add_fac = abs(anat_min_max[1]*mul_fac)+epi_min_max[0]\n",
      "    \n",
      "    return mul_fac, add_fac\n",
      "\n",
      "calcinv = Node(interface=Function(input_names=['anat_min_max', 'epi_min_max'],\n",
      "                                 output_names=['mul_fac', 'add_fac'],\n",
      "                                 function=calculate_inversion),\n",
      "              name='calculate_inversion')\n",
      "\n",
      "\n",
      "nonreg.connect(anat_min_max, 'out_stat', calcinv, 'anat_min_max')\n",
      "nonreg.connect(epi_min_max, 'out_stat', calcinv, 'epi_min_max')\n",
      "\n",
      "\n",
      "mulinv = Node(interface=BinaryMaths(operation='mul'), name='multiply_intensities')\n",
      "addinv = Node(interface=BinaryMaths(operation='add'), name='add_intensities')\n",
      "\n",
      "nonreg.connect(maskanat, 'out_file', mulinv, 'in_file')\n",
      "nonreg.connect(calcinv, 'mul_fac', mulinv, 'operand_value')\n",
      "nonreg.connect(mulinv, 'out_file', addinv, 'in_file')\n",
      "nonreg.connect(calcinv, 'add_fac', addinv, 'operand_value')\n",
      "nonreg.connect(addinv, 'out_file', sink, 'anat.@inv_masked_brain')"
     ],
     "language": "python",
     "metadata": {},
     "outputs": [],
     "prompt_number": 117
    },
    {
     "cell_type": "markdown",
     "metadata": {},
     "source": [
      "inversly transform mask and mask original epi"
     ]
    },
    {
     "cell_type": "code",
     "collapsed": false,
     "input": [
      "transformmask = Node(interface=ApplyTransforms(dimension=3,\n",
      "                                             interpolation='NearestNeighbor',\n",
      "                                             invert_transform_flags=[True]), \n",
      "                     name = 'transform_mask_2epispace')\n",
      "\n",
      "nonreg.connect(list_transform, 'lin_list', transformmask, 'transforms')\n",
      "nonreg.connect(intersect, 'out_file',  transformmask, 'input_image')\n",
      "nonreg.connect(calc_mean, 'out_file', transformmask, 'reference_image')\n",
      "nonreg.connect(transformmask, 'output_image', sink, 'mask.@combined_mask_epispace')\n",
      "\n",
      "\n",
      "mask_orig_epi = Node(interface=ApplyMask(), \n",
      "                name='apply_combined__mask_2origepi')\n",
      "\n",
      "nonreg.connect(transformmask, 'output_image', mask_orig_epi, 'mask_file')\n",
      "nonreg.connect(calc_mean, 'out_file', mask_orig_epi, 'in_file')\n",
      "nonreg.connect(mask_orig_epi, 'out_file', sink, 'realignment.@masked_epi')\n",
      "\n",
      "#from nipype.interfaces.fsl.utils import ConvertXFM\n",
      "#inv_lin = Node(interface=ConvertXFM(invert_xfm=True),\n",
      "#               name='invert_lin_transform')\n",
      "#\n",
      "#nonreg.connect(bbregister, 'out_fsl_file', inv_lin, 'in_file')\n",
      "#\n",
      "#\n",
      "#transformmask = Node(interface=ApplyXfm(interp='nearestneighbour',\n",
      "#                                       output_type = 'NIFTI_GZ',\n",
      "#                                       apply_xfm=True),\n",
      "#                     name = 'transform_mask_2epispace')\n",
      "#\n",
      "#nonreg.connect(inv_lin, 'out_file', transformmask, 'in_matrix_file')\n",
      "#nonreg.connect(intersect, 'out_file',  transformmask, 'in_file')\n",
      "#nonreg.connect(calc_mean, 'out_file', transformmask, 'reference')\n",
      "#nonreg.connect(transformmask, 'out_file', sink, 'mask.@combined_mask_epispace')\n"
     ],
     "language": "python",
     "metadata": {},
     "outputs": [],
     "prompt_number": 118
    },
    {
     "cell_type": "markdown",
     "metadata": {},
     "source": [
      "rigidly transform epi and mask it"
     ]
    },
    {
     "cell_type": "code",
     "collapsed": false,
     "input": [
      "lin_epi = Node(interface=ApplyTransforms(dimension=3),\n",
      "                   name='linearly_transform_epi')\n",
      "\n",
      "nonreg.connect(list_transform, 'lin_list', lin_epi, 'transforms')\n",
      "nonreg.connect(calc_mean, 'out_file', lin_epi, 'input_image')\n",
      "nonreg.connect(addinv, 'out_file', lin_epi, 'reference_image')\n",
      "nonreg.connect(lin_epi, 'output_image', sink, 'lin_transform.@lin_warp')\n",
      "\n",
      "\n",
      "mask_lin_epi = Node(interface=ApplyMask(), \n",
      "                name='apply_combined__mask_2linepi')\n",
      "\n",
      "nonreg.connect(intersect, 'out_file', mask_lin_epi, 'mask_file')\n",
      "nonreg.connect(lin_epi, 'output_image', mask_lin_epi, 'in_file')\n",
      "nonreg.connect(mask_lin_epi, 'out_file', sink, 'lin_transform.@masked_lin_warp')"
     ],
     "language": "python",
     "metadata": {},
     "outputs": [],
     "prompt_number": 119
    },
    {
     "cell_type": "markdown",
     "metadata": {},
     "source": [
      "nonlinear registration with ants"
     ]
    },
    {
     "cell_type": "code",
     "collapsed": false,
     "input": [
      "from nipype.interfaces.ants.registration import Registration\n",
      "ants = Node(interface = Registration(dimension = 3,\n",
      "                                                 invert_initial_moving_transform = True,\n",
      "                                                 metric = ['CC'],\n",
      "                                                 metric_weight = [1.0],\n",
      "                                                 radius_or_number_of_bins = [4],\n",
      "                                                 sampling_percentage = [0.3],\n",
      "                                                 sampling_strategy = ['Regular'],\n",
      "                                                 transforms = ['SyN'],\n",
      "                                                 args = '-g .1x1x.1',\n",
      "                                                 transform_parameters = [(0.20,3,0)],\n",
      "                                                 number_of_iterations = [[10,5]],\n",
      "                                                 convergence_threshold = [1e-06],\n",
      "                                                 convergence_window_size = [10],\n",
      "                                                 shrink_factors = [[2,1]],\n",
      "                                                 smoothing_sigmas = [[1,0.5]],\n",
      "                                                 sigma_units = ['vox'],\n",
      "                                                 use_estimate_learning_rate_once = [True],\n",
      "                                                 use_histogram_matching = [True],\n",
      "                                                 collapse_output_transforms = True,\n",
      "                                                 output_inverse_warped_image = True,\n",
      "                                                 output_warped_image = True),\n",
      "                        name = 'nonlinear_transformation_ants')\n",
      "\n",
      "nonreg.connect(c3daffine, 'itk_transform', ants, 'initial_moving_transform')\n",
      "nonreg.connect(mask_orig_epi, 'out_file', ants, 'fixed_image')\n",
      "nonreg.connect(addinv, 'out_file', ants, 'moving_image')\n",
      "nonreg.connect(ants, 'inverse_warped_image' , sink, 'nonlin_transform.@masked_nonlin_inv_warp')\n",
      "nonreg.connect(ants, 'warped_image' , sink, 'nonlin_transform.@masked_nonlin_warp')\n",
      "nonreg.connect(ants, 'reverse_transforms', sink, 'nonlin_transform.@masked_nonlin_inv_deform_field')\n",
      "nonreg.connect(ants, 'forward_transforms', sink, 'nonlin_transform.@masked_nonlin_deform_field')"
     ],
     "language": "python",
     "metadata": {},
     "outputs": [
      {
       "output_type": "stream",
       "stream": "stderr",
       "text": [
        "/usr/lib/pymodules/python2.7/nipype/interfaces/base.py:376: UserWarning: Input invert_initial_moving_transform requires inputs: initial_moving_transform\n",
        "  warn(msg)\n",
        "/usr/lib/pymodules/python2.7/nipype/interfaces/base.py:376: UserWarning: Input output_inverse_warped_image requires inputs: output_warped_image\n",
        "  warn(msg)\n"
       ]
      }
     ],
     "prompt_number": 120
    },
    {
     "cell_type": "markdown",
     "metadata": {},
     "source": [
      "apply nonlinear transform to unmasked epi"
     ]
    },
    {
     "cell_type": "code",
     "collapsed": false,
     "input": [
      "def make_list_total(lin_transform, inv_nonlin_transform):\n",
      "    total_list = [lin_transform, inv_nonlin_transform[1]]\n",
      "    return total_list\n",
      "\n",
      "list_total_transform = Node(interface=Function(input_names=['lin_transform', 'inv_nonlin_transform'],\n",
      "                                 output_names=['total_list'],\n",
      "                                 function=make_list_total),\n",
      "              name='list_total_transformations')\n",
      "\n",
      "nonreg.connect(c3daffine, 'itk_transform', list_total_transform, 'lin_transform')\n",
      "nonreg.connect(ants, 'reverse_transforms', list_total_transform, 'inv_nonlin_transform')\n",
      "\n",
      "\n",
      "nonlin_orig = Node(interface = ApplyTransforms(dimension=3), \n",
      "                   name='apply_nonlin_transformation_2orig_epi')\n",
      "\n",
      "nonreg.connect(list_total_transform, 'total_list', nonlin_orig, 'transforms')\n",
      "nonreg.connect(calc_mean, 'out_file', nonlin_orig, 'input_image')\n",
      "nonreg.connect(addinv, 'out_file',  nonlin_orig, 'reference_image')\n",
      "nonreg.connect(nonlin_orig, 'output_image', sink, 'nonlin_transform.@nonlin_inv_warp')\n",
      "\n",
      "#def reduce_deformation_fields(file_name):\n",
      "#    import nibabel\n",
      "#    filen = file_name[1]\n",
      "#    five_d_file = nibabel.load(filen)\n",
      "#    data = five_d_file.get_data()\n",
      "#    nonlin_trans=nibabel.Nifti1Image(data[:,:,:,0,:], five_d_file.get_affine())\n",
      "#    return(nonlin_trans)\n",
      "\n",
      "#reduce_fields = Node(interface=Function(input_names=['file_name'],\n",
      "#                                 output_names=['nonlin_trans'],\n",
      "#                                 function=reduce_deformation_fields),\n",
      "#              name='reduce_deformation_fields')\n",
      "#\n",
      "#nonreg.connect(ants, 'reverse_transforms', reduce_fields, 'file_name')\n",
      "#nonreg.connect(reduce_fields, 'nonlin_trans', sink, 'nonlin_transform.@reduced_nonlin_inv_field')\n",
      "\n",
      "\n",
      "\n",
      "#from nipype.interfaces.fsl.preprocess import ApplyWarp\n",
      "#nonlin_orig = Node(interface=ApplyWarp(output_type = 'NIFTI_GZ'),\n",
      "#                     name = 'apply_nonlin_transformation_2orig_epi')\n",
      "#\n",
      "#nonreg.connect(bbregister, 'out_fsl_file', nonlin_orig, 'premat')\n",
      "#nonreg.connect(reduce_fields, 'nonlin_trans', nonlin_orig, 'field_file')\n",
      "#nonreg.connect(calc_mean, 'out_file', nonlin_orig, 'in_file')\n",
      "#nonreg.connect(addinv, 'out_file',  nonlin_orig, 'ref_file')\n",
      "#nonreg.connect(nonlin_orig, 'out_file', sink, 'nonlin_transform.@nonlin_inv_warp')"
     ],
     "language": "python",
     "metadata": {},
     "outputs": [],
     "prompt_number": 121
    },
    {
     "cell_type": "code",
     "collapsed": false,
     "input": [
      "#from nipype.interfaces.afni import Resample\n",
      "#resamp = Node(interface=Resample(outputtype='NIFTI_GZ',\n",
      "##                                 voxel_size = (3,3,3)),\n",
      "#              name = 'resample_ref')\n",
      "#\n",
      "#nonreg.connect(addinv, 'out_file', resamp, 'in_file')\n",
      "#nonreg.connect(resamp,'out_file', sink, 'anat.@resamp_brain')"
     ],
     "language": "python",
     "metadata": {},
     "outputs": [],
     "prompt_number": 122
    },
    {
     "cell_type": "markdown",
     "metadata": {},
     "source": [
      "apply linear and nonlinear transform to whole timeseries"
     ]
    },
    {
     "cell_type": "code",
     "collapsed": false,
     "input": [
      "#from nipype.interfaces.ants.resampling import WarpTimeSeriesImageMultiTransform\n",
      "#lin_trans_ts = Node(WarpTimeSeriesImageMultiTransform(dimension=4),\n",
      "#                name = 'linearly_transform_timeseries')\n",
      "\n",
      "#nonreg.connect(list_transform, 'lin_list', lin_trans_ts, 'transformation_series')\n",
      "#nonreg.connect(mcflirt, 'out_file', lin_trans_ts, 'input_image')\n",
      "#nonreg.connect(addinv, 'out_file', lin_trans_ts, 'reference_image')\n",
      "#nonreg.connect(lin_trans_ts, 'output_image', sink, 'lin_transform.@lin_timeseries')\n",
      "\n",
      "#lin_trans_ts = Node(interface=ApplyXfm(output_type = 'NIFTI_GZ',\n",
      "#                                       apply_xfm=True),\n",
      "#                     name = 'linearly_transform_timeseries')\n",
      "#\n",
      "#nonreg.connect(c3daffine, 'itk_transform', lin_trans_ts, 'in_matrix_file')\n",
      "#nonreg.connect(mcflirt, 'out_file', lin_trans_ts, 'in_file')\n",
      "#nonreg.connect(addinv, 'out_file', lin_trans_ts, 'reference')\n",
      "#nonreg.connect(lin_trans_ts, 'out_file', sink, 'lin_transform.@lin_timeseries')\n",
      "\n",
      "def rev_list_total(lin_transform, inv_nonlin_transform):\n",
      "    rev_list = [inv_nonlin_transform[1], lin_transform]\n",
      "    return rev_list\n",
      "\n",
      "rev_list_transform = Node(interface=Function(input_names=['lin_transform', 'inv_nonlin_transform'],\n",
      "                                 output_names=['rev_list'],\n",
      "                                 function=rev_list_total),\n",
      "              name='rev_transformation_list')\n",
      "\n",
      "nonreg.connect(c3daffine, 'itk_transform', rev_list_transform, 'lin_transform')\n",
      "nonreg.connect(ants, 'reverse_transforms', rev_list_transform, 'inv_nonlin_transform')\n",
      "\n",
      "\n",
      "\n",
      "#nonlin_trans_ts = Node(WarpTimeSeriesImageMultiTransform(dimension=4),\n",
      "#                name = 'nonlinearly_transform_timeseries')\n",
      "\n",
      "#nonreg.connect(rev_list_transform, 'rev_list', nonlin_trans_ts, 'transformation_series')\n",
      "#nonreg.connect(mcflirt, 'out_file', nonlin_trans_ts, 'input_image')\n",
      "#nonreg.connect(addinv, 'out_file', nonlin_trans_ts, 'reference_image')\n",
      "#nonreg.connect(nonlin_trans_ts, 'output_image', sink, 'nonlin_transform.@nonlin_timeseries')\n",
      "\n",
      "\n",
      "#nonlin_trans_ts = Node(interface=ApplyWarp(output_type = 'NIFTI_GZ'),\n",
      "#                     name = 'nonlinearly_transform_timeseries')\n",
      "#\n",
      "#nonreg.connect(bbregister, 'out_fsl_file', nonlin_trans_ts, 'premat')\n",
      "#nonreg.connect(reduce_fields, 'nonlin_trans', nonlin_trans_ts, 'field_file')\n",
      "#nonreg.connect(mcflirt, 'out_file', nonlin_trans_ts, 'in_file')\n",
      "#nonreg.connect(addinv, 'out_file',  nonlin_trans_ts, 'ref_file')\n",
      "#nonreg.connect(nonlin_trans_ts, 'out_file', sink, 'nonlin_transform.@nonlin_timeseries')"
     ],
     "language": "python",
     "metadata": {},
     "outputs": [],
     "prompt_number": 123
    },
    {
     "cell_type": "markdown",
     "metadata": {},
     "source": [
      "resample time series"
     ]
    },
    {
     "cell_type": "code",
     "collapsed": false,
     "input": [
      "#from nipype.interfaces.afni import Resample\n",
      "#resamp_lin = Node(interface=Resample(outputtype='NIFTI_GZ',\n",
      "#                                 voxel_size = (3,3,3)),\n",
      "#              name = 'resample_lin_ts')\n",
      "\n",
      "#nonreg.connect(lin_trans_ts, 'output_image', resamp_lin, 'in_file')\n",
      "#nonreg.connect(resamp_lin,'out_file', sink, 'lin_transform.@lin_timeseries')\n",
      "\n",
      "#resamp_nonlin = Node(interface=Resample(outputtype='NIFTI_GZ',\n",
      "#                                 voxel_size = (3,3,3)),\n",
      "#              name = 'resample_nonlin_ts')\n",
      "\n",
      "#nonreg.connect(nonlin_trans_ts, 'output_image', resamp_nonlin, 'in_file')\n",
      "#nonreg.connect(resamp_nonlin,'out_file', sink, 'nonlin_transform.@lin_timeseries')"
     ],
     "language": "python",
     "metadata": {},
     "outputs": [],
     "prompt_number": 124
    },
    {
     "cell_type": "markdown",
     "metadata": {},
     "source": [
      "create tsnr maps and calculate differences"
     ]
    },
    {
     "cell_type": "code",
     "collapsed": false,
     "input": [
      "#from nipype.algorithms.misc import TSNR\n",
      "#lin_tsnr = Node(interface=TSNR(), name='lin_tsnr')\n",
      "\n",
      "#nonreg.connect(resamp_lin, 'out_file',lin_tsnr,'in_file')\n",
      "#nonreg.connect(lin_tsnr, 'tsnr_file', sink, 'eval.tsnr.lin.@tsnr')\n",
      "\n",
      "#nonlin_tsnr = Node(interface=TSNR(), name='nonlin_tsnr')\n",
      "\n",
      "#nonreg.connect(resamp_nonlin, 'out_file',nonlin_tsnr,'in_file')\n",
      "#nonreg.connect(nonlin_tsnr, 'tsnr_file', sink, 'eval.tsnr.nonlin.@tsnr')\n",
      "\n",
      "#sub_tsnr = Node(interface=BinaryMaths(operation='sub'), name='substract_snrs')\n",
      "\n",
      "#nonreg.connect(nonlin_tsnr, 'tsnr_file', sub_tsnr, 'in_file')\n",
      "#nonreg.connect(lin_tsnr, 'tsnr_file', sub_tsnr, 'operand_file')\n",
      "#nonreg.connect(sub_tsnr, 'out_file', sink, 'eval.tsnr.diff.@diff')\n",
      "\n",
      "#nonreg.connect(lin_tsnr, 'detrended_file', sink, 'eval.tsnr_lin.@detrended')\n",
      "#nonreg.connect(lin_tsnr, 'mean_file', sink, 'eval.tsnr_lin.@mean')\n",
      "#nonreg.connect(lin_tsnr, 'stddev_file', sink, 'eval.tsnr_lin.@stddev')"
     ],
     "language": "python",
     "metadata": {},
     "outputs": [],
     "prompt_number": 125
    },
    {
     "cell_type": "markdown",
     "metadata": {},
     "source": [
      "calculate masks before and after nonlinear, resample and intersect"
     ]
    },
    {
     "cell_type": "code",
     "collapsed": false,
     "input": [
      "from nipype.interfaces.afni import Automask\n",
      "lin_automask = Node(interface=Automask(outputtype='NIFTI_GZ',\n",
      "                                       clfrac = 0.6), \n",
      "                    name='automask_after_lin_trans')\n",
      "\n",
      "nonreg.connect(lin_epi, 'output_image', lin_automask, 'in_file')\n",
      "nonreg.connect(lin_automask, 'out_file', sink, 'eval.automask.lin.@automask')\n",
      "\n",
      "nonlin_automask = Node(interface=Automask(outputtype='NIFTI_GZ',\n",
      "                                          clfrac = 0.6), \n",
      "                    name='automask_after_nonlin_trans')\n",
      "\n",
      "nonreg.connect(nonlin_orig, 'output_image', nonlin_automask, 'in_file')\n",
      "nonreg.connect(nonlin_automask, 'out_file', sink, 'eval.automask.nonlin.@automask')\n",
      "\n",
      "\n",
      "\n",
      "resamp_lin_mask = Node(interface=Resample(outputtype='NIFTI_GZ',\n",
      "                                 voxel_size = (3,3,3)),\n",
      "              name = 'resample_lin_automask')\n",
      "\n",
      "nonreg.connect(lin_automask, 'out_file', resamp_lin_mask, 'in_file')\n",
      "nonreg.connect(resamp_lin_mask,'out_file', sink, 'eval.automask.lin.@resamp')\n",
      "\n",
      "resamp_nonlin_mask = Node(interface=Resample(outputtype='NIFTI_GZ',\n",
      "                                 voxel_size = (3,3,3)),\n",
      "              name = 'resample_nonlin_automask')\n",
      "\n",
      "nonreg.connect(nonlin_automask, 'out_file', resamp_nonlin_mask, 'in_file')\n",
      "nonreg.connect(resamp_nonlin_mask,'out_file', sink, 'eval.automask.nonlin.@resamp')\n",
      "\n",
      "automask_intersect = Node(interface=BinaryMaths(operation='add'), name='automask_intersect')\n",
      "\n",
      "nonreg.connect(resamp_lin_mask,'out_file', automask_intersect, 'in_file')\n",
      "nonreg.connect(resamp_nonlin_mask,'out_file', automask_intersect, 'operand_file')\n",
      "nonreg.connect(automask_intersect, 'out_file', sink, 'eval.automask.intersect.@intersect')\n"
     ],
     "language": "python",
     "metadata": {},
     "outputs": [],
     "prompt_number": 126
    },
    {
     "cell_type": "markdown",
     "metadata": {},
     "source": [
      "measure mask extens"
     ]
    },
    {
     "cell_type": "code",
     "collapsed": false,
     "input": [
      "lin_calc_ext = Node(interface=ImageStats(op_string='-V',\n",
      "                                    output_type='NIFTI_GZ'),\n",
      "              name='calculate_mask_extents_lin')\n",
      "\n",
      "nonreg.connect(lin_automask, 'out_file', lin_calc_ext, 'in_file')\n",
      "\n",
      "nonlin_calc_ext = Node(interface=ImageStats(op_string='-V',\n",
      "                                    output_type='NIFTI_GZ'),\n",
      "              name='calculate_mask_extents_nonlin')\n",
      "\n",
      "nonreg.connect(nonlin_automask, 'out_file', nonlin_calc_ext, 'in_file')"
     ],
     "language": "python",
     "metadata": {},
     "outputs": [],
     "prompt_number": 127
    },
    {
     "cell_type": "markdown",
     "metadata": {},
     "source": [
      "calculate image similarities"
     ]
    },
    {
     "cell_type": "code",
     "collapsed": false,
     "input": [
      "from nipype.interfaces.nipy.utils import Similarity\n",
      "lin_sim = MapNode(interface = Similarity(),\n",
      "                  name = 'similarity_lin_trans',\n",
      "                  iterfield=['metric'])\n",
      "lin_sim.inputs.metric = ['mi','nmi','cc','cr','crl1']\n",
      "\n",
      "nonreg.connect(mriconvert, 'out_file', lin_sim, 'volume1')\n",
      "nonreg.connect(lin_epi, 'output_image',lin_sim, 'volume2')\n",
      "nonreg.connect(intersect, 'out_file', lin_sim, 'mask1')\n",
      "\n",
      "\n",
      "nonlin_sim = MapNode(interface = Similarity(),\n",
      "                  name = 'similarity_nonlin_trans',\n",
      "                  iterfield=['metric'])\n",
      "nonlin_sim.inputs.metric = ['mi','nmi','cc','cr','crl1']\n",
      "\n",
      "nonreg.connect(mriconvert, 'out_file', nonlin_sim, 'volume1')\n",
      "nonreg.connect(nonlin_orig, 'output_image',nonlin_sim, 'volume2')\n",
      "nonreg.connect(intersect, 'out_file', nonlin_sim, 'mask1')\n"
     ],
     "language": "python",
     "metadata": {},
     "outputs": [],
     "prompt_number": 128
    },
    {
     "cell_type": "markdown",
     "metadata": {},
     "source": [
      "write values to file"
     ]
    },
    {
     "cell_type": "code",
     "collapsed": false,
     "input": [
      "def write_text(lin_mask_ext, nonlin_mask_ext, lin_metrics, nonlin_metrics):\n",
      "    import numpy as np\n",
      "    import os\n",
      "    #mask = np.array([lin_mask_ext[0], nonlin_mask_ext[0]])\n",
      "    lin_metrics_array = np.array(lin_metrics)\n",
      "    lin_mask_array = np.array(lin_mask_ext[0])\n",
      "    lin_array = np.append(lin_metrics_array,lin_mask_array)\n",
      "    lin_array=lin_array.reshape(np.size(lin_array),1)\n",
      "    \n",
      "    nl_metrics_array = np.array(nonlin_metrics)\n",
      "    nl_mask_array = np.array(nonlin_mask_ext[0])\n",
      "    nl_array = np.append(nl_metrics_array,nl_mask_array)\n",
      "    nl_array=nl_array.reshape(np.size(nl_array),1)\n",
      "    \n",
      "    metrics=np.concatenate((lin_array,nl_array),axis=1)\n",
      "    #mask_file = 'mask_extents.txt'\n",
      "    metrics_file = 'metrics.txt'\n",
      "    #np.savetxt(mask_file, mask, delimiter=' ', fmt='%f')\n",
      "    np.savetxt(metrics_file, metrics, delimiter=' ', fmt='%f')\n",
      "    return os.path.abspath('metrics.txt') #os.path.abspath('mask_extents.txt'), os.path.abspath('sim_metrics.txt')\n",
      "    \n",
      "\n",
      "write_txt = Node(interface=Function(input_names=['lin_mask_ext', 'nonlin_mask_ext','lin_metrics', 'nonlin_metrics'],\n",
      "                                  output_names=['txtfile'],\n",
      "                                  function=write_text),\n",
      "              name='write_file')\n",
      "\n",
      "nonreg.connect(lin_sim, 'similarity', write_txt, 'lin_metrics')\n",
      "nonreg.connect(nonlin_sim, 'similarity', write_txt, 'nonlin_metrics')\n",
      "nonreg.connect(lin_calc_ext, 'out_stat', write_txt, 'lin_mask_ext')\n",
      "nonreg.connect(nonlin_calc_ext, 'out_stat', write_txt, 'nonlin_mask_ext')\n",
      "nonreg.connect(write_txt, 'txtfile', sink, 'eval.txt.@txtfile')\n",
      "#nonreg.connect(write_txt, 'extfile', sink, 'eval.txt.@extfile')"
     ],
     "language": "python",
     "metadata": {},
     "outputs": [],
     "prompt_number": 129
    },
    {
     "cell_type": "code",
     "collapsed": false,
     "input": [
      "#nonreg.run(plugin='CondorDAGMan')"
     ],
     "language": "python",
     "metadata": {},
     "outputs": [
      {
       "output_type": "stream",
       "stream": "stdout",
       "text": [
        "140116-02:13:24,705 workflow INFO:\n",
        "\t ['check', 'execution', 'logging']\n"
       ]
      },
      {
       "output_type": "stream",
       "stream": "stdout",
       "text": [
        "140116-02:13:50,629 workflow INFO:\n",
        "\t submitted all jobs to Condor DAGMan\n"
       ]
      },
      {
       "metadata": {},
       "output_type": "pyout",
       "prompt_number": 130,
       "text": [
        "<networkx.classes.digraph.DiGraph at 0x6561090>"
       ]
      }
     ],
     "prompt_number": 130
    },
    {
     "cell_type": "code",
     "collapsed": false,
     "input": [
      "#nonreg.write_graph(graph2use='flat')"
     ],
     "language": "python",
     "metadata": {},
     "outputs": [],
     "prompt_number": 131
    }
   ],
   "metadata": {}
  }
 ]
}